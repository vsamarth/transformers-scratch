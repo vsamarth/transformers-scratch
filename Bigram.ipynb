{
 "cells": [
  {
   "cell_type": "code",
   "execution_count": 1,
   "id": "99b3932c",
   "metadata": {},
   "outputs": [],
   "source": [
    "import seaborn as sns\n",
    "\n",
    "sns.set_theme()"
   ]
  },
  {
   "cell_type": "code",
   "execution_count": 2,
   "id": "47d8498e",
   "metadata": {},
   "outputs": [
    {
     "name": "stdout",
     "output_type": "stream",
     "text": [
      "Using 32033 names\n"
     ]
    },
    {
     "data": {
      "text/plain": [
       "['emma',\n",
       " 'olivia',\n",
       " 'ava',\n",
       " 'isabella',\n",
       " 'sophia',\n",
       " 'charlotte',\n",
       " 'mia',\n",
       " 'amelia',\n",
       " 'harper',\n",
       " 'evelyn']"
      ]
     },
     "execution_count": 2,
     "metadata": {},
     "output_type": "execute_result"
    }
   ],
   "source": [
    "# Read the dataset\n",
    "\n",
    "words = open(\"names.txt\").read().splitlines()\n",
    "print(f\"Using {len(words)} names\")\n",
    "words[:10]"
   ]
  },
  {
   "cell_type": "code",
   "execution_count": 3,
   "id": "970669ae",
   "metadata": {},
   "outputs": [
    {
     "name": "stdout",
     "output_type": "stream",
     "text": [
      "27 {1: 'a', 2: 'b', 3: 'c', 4: 'd', 5: 'e', 6: 'f', 7: 'g', 8: 'h', 9: 'i', 10: 'j', 11: 'k', 12: 'l', 13: 'm', 14: 'n', 15: 'o', 16: 'p', 17: 'q', 18: 'r', 19: 's', 20: 't', 21: 'u', 22: 'v', 23: 'w', 24: 'x', 25: 'y', 26: 'z', 0: '.'}\n"
     ]
    }
   ],
   "source": [
    "# Explore the dataset\n",
    "chars = sorted(list(set(\"\".join(words))))\n",
    "stoi = {s: i + 1 for i, s in enumerate(chars)}\n",
    "stoi[\".\"] = 0\n",
    "itos = {i: s for s, i in stoi.items()}\n",
    "\n",
    "M = len(stoi)\n",
    "print(M, itos)"
   ]
  },
  {
   "cell_type": "code",
   "execution_count": 4,
   "id": "73fbc98a",
   "metadata": {},
   "outputs": [
    {
     "data": {
      "text/plain": [
       "((228146,), (228146,))"
      ]
     },
     "execution_count": 4,
     "metadata": {},
     "output_type": "execute_result"
    }
   ],
   "source": [
    "import jax.numpy as jnp\n",
    "\n",
    "X = []\n",
    "y = []\n",
    "for w in words:\n",
    "    chs = [\".\"] + list(w) + [\".\"]\n",
    "    for ch1, ch2 in zip(chs, chs[1:]):\n",
    "        idx1 = stoi[ch1]\n",
    "        idx2 = stoi[ch2]\n",
    "        X.append(idx1)\n",
    "        y.append(idx2)\n",
    "\n",
    "X = jnp.array(X)\n",
    "y = jnp.array(y)\n",
    "\n",
    "X.shape, y.shape"
   ]
  },
  {
   "cell_type": "code",
   "execution_count": 5,
   "id": "af51b322",
   "metadata": {},
   "outputs": [],
   "source": [
    "from jax import random, jit\n",
    "\n",
    "key = random.key(42)\n",
    "key, W_key = random.split(key)\n",
    "# M is 27\n",
    "W = random.normal(W_key, (M, M))"
   ]
  },
  {
   "cell_type": "code",
   "execution_count": null,
   "id": "a8a82ca3",
   "metadata": {},
   "outputs": [
    {
     "name": "stdout",
     "output_type": "stream",
     "text": [
      "Epoch 10: 2.7143\n",
      "Epoch 20: 2.5823\n",
      "Epoch 30: 2.5364\n",
      "Epoch 40: 2.5139\n",
      "Epoch 50: 2.5005\n",
      "Epoch 60: 2.4917\n",
      "Epoch 70: 2.4855\n",
      "Epoch 80: 2.4809\n",
      "Epoch 90: 2.4774\n",
      "Epoch 100: 2.4746\n"
     ]
    }
   ],
   "source": [
    "from jax.nn import softmax\n",
    "from jax import Array, vmap, value_and_grad\n",
    "\n",
    "\n",
    "@jit\n",
    "def loss_fn(x: int, y: int, W: Array):\n",
    "    probs = softmax(W[x])\n",
    "    return -jnp.log(probs[y])\n",
    "\n",
    "\n",
    "@value_and_grad\n",
    "@jit\n",
    "def model(W):\n",
    "    criterion = vmap(loss_fn, in_axes=(0, 0, None))\n",
    "    loss = criterion(X, y, W)\n",
    "    return loss.mean()\n",
    "\n",
    "\n",
    "for i in range(1, 101):\n",
    "    loss, grad = model(W)\n",
    "    W -= 50 * grad\n",
    "    if i % 10 == 0:\n",
    "        print(f\"Epoch {i}: {loss:.4f}\")"
   ]
  },
  {
   "cell_type": "code",
   "execution_count": 7,
   "id": "162aada5",
   "metadata": {},
   "outputs": [
    {
     "data": {
      "text/plain": [
       "<Axes: >"
      ]
     },
     "execution_count": 7,
     "metadata": {},
     "output_type": "execute_result"
    },
    {
     "data": {
      "image/png": "[encoded data removed]",
      "text/plain": [
       "<Figure size 640x480 with 2 Axes>"
      ]
     },
     "metadata": {},
     "output_type": "display_data"
    }
   ],
   "source": [
    "sns.heatmap(softmax(W), cmap=\"viridis\")"
   ]
  },
  {
   "cell_type": "code",
   "execution_count": 8,
   "id": "9ffdd63f",
   "metadata": {},
   "outputs": [
    {
     "name": "stdout",
     "output_type": "stream",
     "text": [
      "gn.\n",
      "yve.\n",
      "t.\n",
      "amza.\n",
      "lde.\n",
      "sa.\n",
      "soleyselyamayosziohhe.\n",
      "cha.\n",
      "rinann.\n",
      "riaronann.\n"
     ]
    }
   ],
   "source": [
    "from jax.random import categorical\n",
    "\n",
    "\n",
    "def generate(key):\n",
    "    out = []\n",
    "    idx = 0\n",
    "    while True:\n",
    "        key, subkey = random.split(key)\n",
    "        sampled = categorical(subkey, W[idx]).item()\n",
    "        out.append(itos[sampled])\n",
    "        idx = sampled\n",
    "        if idx == 0:\n",
    "            break\n",
    "    return \"\".join(out)\n",
    "\n",
    "\n",
    "for i in range(10):\n",
    "    key, subkey = random.split(key)\n",
    "    print(generate(subkey))"
   ]
  }
 ],
 "metadata": {
  "kernelspec": {
   "display_name": ".venv",
   "language": "python",
   "name": "python3"
  },
  "language_info": {
   "codemirror_mode": {
    "name": "ipython",
    "version": 3
   },
   "file_extension": ".py",
   "mimetype": "text/x-python",
   "name": "python",
   "nbconvert_exporter": "python",
   "pygments_lexer": "ipython3",
   "version": "3.13.2"
  }
 },
 "nbformat": 4,
 "nbformat_minor": 5
}
