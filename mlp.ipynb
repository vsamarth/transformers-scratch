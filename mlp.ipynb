{
 "cells": [
  {
   "cell_type": "code",
   "execution_count": 8,
   "id": "99b3932c",
   "metadata": {},
   "outputs": [],
   "source": [
    "import seaborn as sns\n",
    "import jax\n",
    "\n",
    "sns.set_theme()"
   ]
  },
  {
   "cell_type": "code",
   "execution_count": 9,
   "id": "47d8498e",
   "metadata": {},
   "outputs": [
    {
     "name": "stdout",
     "output_type": "stream",
     "text": [
      "Using 32033 names\n"
     ]
    },
    {
     "data": {
      "text/plain": [
       "['emma',\n",
       " 'olivia',\n",
       " 'ava',\n",
       " 'isabella',\n",
       " 'sophia',\n",
       " 'charlotte',\n",
       " 'mia',\n",
       " 'amelia',\n",
       " 'harper',\n",
       " 'evelyn']"
      ]
     },
     "execution_count": 9,
     "metadata": {},
     "output_type": "execute_result"
    }
   ],
   "source": [
    "# Read the dataset\n",
    "\n",
    "words = open(\"names.txt\").read().splitlines()\n",
    "print(f\"Using {len(words)} names\")\n",
    "words[:10]"
   ]
  },
  {
   "cell_type": "code",
   "execution_count": 10,
   "id": "970669ae",
   "metadata": {},
   "outputs": [
    {
     "name": "stdout",
     "output_type": "stream",
     "text": [
      "27 {1: 'a', 2: 'b', 3: 'c', 4: 'd', 5: 'e', 6: 'f', 7: 'g', 8: 'h', 9: 'i', 10: 'j', 11: 'k', 12: 'l', 13: 'm', 14: 'n', 15: 'o', 16: 'p', 17: 'q', 18: 'r', 19: 's', 20: 't', 21: 'u', 22: 'v', 23: 'w', 24: 'x', 25: 'y', 26: 'z', 0: '.'}\n"
     ]
    }
   ],
   "source": [
    "# Explore the dataset\n",
    "chars = sorted(list(set(\"\".join(words))))\n",
    "stoi = {s: i + 1 for i, s in enumerate(chars)}\n",
    "stoi[\".\"] = 0\n",
    "itos = {i: s for s, i in stoi.items()}\n",
    "\n",
    "M = len(stoi)\n",
    "print(M, itos)"
   ]
  },
  {
   "cell_type": "code",
   "execution_count": 11,
   "id": "73fbc98a",
   "metadata": {},
   "outputs": [
    {
     "data": {
      "text/plain": [
       "'METAL'"
      ]
     },
     "execution_count": 11,
     "metadata": {},
     "output_type": "execute_result"
    }
   ],
   "source": [
    "import jax.numpy as jnp\n",
    "\n",
    "context_length = 3\n",
    "\n",
    "X = []\n",
    "y = []\n",
    "for w in words:\n",
    "    context = [0] * context_length\n",
    "    for ch in w + \".\":\n",
    "        idx = stoi[ch]\n",
    "        X.append(context)\n",
    "        y.append(idx)\n",
    "        context = context[1:] + [idx]\n",
    "\n",
    "\n",
    "X = jnp.array(X)\n",
    "y = jnp.array(y)\n",
    "\n",
    "X.shape, y.shape\n",
    "\n",
    "jax.default_backend()"
   ]
  },
  {
   "cell_type": "code",
   "execution_count": 16,
   "id": "90c63216",
   "metadata": {},
   "outputs": [],
   "source": [
    "from jax import random, Array, jit, vmap, value_and_grad\n",
    "from jax.nn import one_hot, softmax\n",
    "import jax\n",
    "\n",
    "#  Define the model\n",
    "token_space = 27\n",
    "embedding_space = 2\n",
    "key = random.key(42)\n",
    "key, C_key, W1_key, W2_key = random.split(key, 4)\n",
    "parameters = {\n",
    "    \"C\": random.normal(C_key, (token_space, embedding_space)),\n",
    "    \"W1\": random.normal(W1_key, (embedding_space * context_length, 100)) / 10,\n",
    "    \"W2\": random.normal(W2_key, (100, token_space)),\n",
    "}\n",
    "\n",
    "\n",
    "@jit\n",
    "def model(X: Array, parameters: dict[str, Array]):\n",
    "    emb = jnp.dot(one_hot(X, token_space), parameters[\"C\"]).reshape(\n",
    "        context_length * embedding_space\n",
    "    )\n",
    "    hlogits = jnp.tanh(jnp.dot(emb, parameters[\"W1\"]))\n",
    "    logits = jnp.dot(hlogits, parameters[\"W2\"])\n",
    "    probs = softmax(logits)\n",
    "    return probs\n",
    "\n",
    "\n",
    "@jit\n",
    "def criterion(probs: Array, y: int):\n",
    "    return -jnp.log(probs[y])"
   ]
  },
  {
   "cell_type": "code",
   "execution_count": 15,
   "id": "a3b2af6c",
   "metadata": {},
   "outputs": [
    {
     "data": {
      "text/plain": [
       "Array(3.295837, dtype=float32, weak_type=True)"
      ]
     },
     "execution_count": 15,
     "metadata": {},
     "output_type": "execute_result"
    }
   ],
   "source": [
    "-jnp.log(1/27)"
   ]
  },
  {
   "cell_type": "code",
   "execution_count": 17,
   "id": "bb2816cc",
   "metadata": {},
   "outputs": [
    {
     "name": "stdout",
     "output_type": "stream",
     "text": [
      "Epoch 1: 4.612331867218018\n",
      "Epoch 101: 2.819538116455078\n",
      "Epoch 201: 2.7806360721588135\n",
      "Epoch 301: 2.7291812896728516\n",
      "Epoch 401: 2.6902899742126465\n",
      "Epoch 501: 2.657661199569702\n",
      "Epoch 601: 2.6299777030944824\n",
      "Epoch 701: 2.6060791015625\n",
      "Epoch 801: 2.5852952003479004\n",
      "Epoch 901: 2.5673162937164307\n",
      "Epoch 1001: 2.551971435546875\n",
      "Epoch 1101: 2.539088487625122\n",
      "Epoch 1201: 2.528407096862793\n",
      "Epoch 1301: 2.5195651054382324\n",
      "Epoch 1401: 2.512166738510132\n",
      "Epoch 1501: 2.5058505535125732\n",
      "Epoch 1601: 2.500328779220581\n",
      "Epoch 1701: 2.4953911304473877\n",
      "Epoch 1801: 2.4908902645111084\n",
      "Epoch 1901: 2.4867217540740967\n"
     ]
    }
   ],
   "source": [
    "@value_and_grad\n",
    "def forward(parameters: dict[str, Array], X: Array, y: Array):\n",
    "    preds = vmap(model, in_axes=(0, None))(X, parameters)\n",
    "    loss = jnp.mean(vmap(criterion)(preds, y))\n",
    "    return loss\n",
    "\n",
    "for i in range(2000):\n",
    "    loss, grad = forward(parameters, X, y)\n",
    "    for k in parameters.keys():\n",
    "        parameters[k] -= .1 * grad[k]\n",
    "    if (i % 100 == 0):\n",
    "        print(f\"Epoch {i + 1}: {loss}\")\n",
    "\n"
   ]
  }
 ],
 "metadata": {
  "kernelspec": {
   "display_name": ".venv",
   "language": "python",
   "name": "python3"
  },
  "language_info": {
   "codemirror_mode": {
    "name": "ipython",
    "version": 3
   },
   "file_extension": ".py",
   "mimetype": "text/x-python",
   "name": "python",
   "nbconvert_exporter": "python",
   "pygments_lexer": "ipython3",
   "version": "3.13.2"
  }
 },
 "nbformat": 4,
 "nbformat_minor": 5
}
