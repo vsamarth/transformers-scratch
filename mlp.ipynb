{
 "cells": [
  {
   "cell_type": "code",
   "execution_count": 1,
   "id": "99b3932c",
   "metadata": {},
   "outputs": [],
   "source": [
    "import seaborn as sns\n",
    "\n",
    "sns.set_theme()"
   ]
  },
  {
   "cell_type": "code",
   "execution_count": 2,
   "id": "47d8498e",
   "metadata": {},
   "outputs": [
    {
     "name": "stdout",
     "output_type": "stream",
     "text": [
      "Using 32033 names\n"
     ]
    },
    {
     "data": {
      "text/plain": [
       "['emma',\n",
       " 'olivia',\n",
       " 'ava',\n",
       " 'isabella',\n",
       " 'sophia',\n",
       " 'charlotte',\n",
       " 'mia',\n",
       " 'amelia',\n",
       " 'harper',\n",
       " 'evelyn']"
      ]
     },
     "execution_count": 2,
     "metadata": {},
     "output_type": "execute_result"
    }
   ],
   "source": [
    "# Read the dataset\n",
    "\n",
    "words = open(\"names.txt\").read().splitlines()\n",
    "print(f\"Using {len(words)} names\")\n",
    "words[:10]"
   ]
  },
  {
   "cell_type": "code",
   "execution_count": 3,
   "id": "970669ae",
   "metadata": {},
   "outputs": [
    {
     "name": "stdout",
     "output_type": "stream",
     "text": [
      "27 {1: 'a', 2: 'b', 3: 'c', 4: 'd', 5: 'e', 6: 'f', 7: 'g', 8: 'h', 9: 'i', 10: 'j', 11: 'k', 12: 'l', 13: 'm', 14: 'n', 15: 'o', 16: 'p', 17: 'q', 18: 'r', 19: 's', 20: 't', 21: 'u', 22: 'v', 23: 'w', 24: 'x', 25: 'y', 26: 'z', 0: '.'}\n"
     ]
    }
   ],
   "source": [
    "# Explore the dataset\n",
    "chars = sorted(list(set(\"\".join(words))))\n",
    "stoi = {s: i + 1 for i, s in enumerate(chars)}\n",
    "stoi[\".\"] = 0\n",
    "itos = {i: s for s, i in stoi.items()}\n",
    "\n",
    "M = len(stoi)\n",
    "print(M, itos)"
   ]
  },
  {
   "cell_type": "code",
   "execution_count": 4,
   "id": "73fbc98a",
   "metadata": {},
   "outputs": [
    {
     "data": {
      "text/plain": [
       "((228146, 3), (228146,))"
      ]
     },
     "execution_count": 4,
     "metadata": {},
     "output_type": "execute_result"
    }
   ],
   "source": [
    "import jax.numpy as jnp\n",
    "\n",
    "context_length = 3\n",
    "\n",
    "X = []\n",
    "y = []\n",
    "for w in words:\n",
    "    context = [0] * context_length\n",
    "    for ch in w + \".\":\n",
    "        idx = stoi[ch]\n",
    "        X.append(context)\n",
    "        y.append(idx)\n",
    "        context = context[1:] + [idx]\n",
    "\n",
    "\n",
    "X = jnp.array(X)\n",
    "y = jnp.array(y)\n",
    "\n",
    "X.shape, y.shape"
   ]
  },
  {
   "cell_type": "code",
   "execution_count": 5,
   "id": "90c63216",
   "metadata": {},
   "outputs": [],
   "source": [
    "from jax import random, Array, jit, vmap, value_and_grad\n",
    "from jax.nn import one_hot, softmax\n",
    "import jax\n",
    "\n",
    "#  Define the model\n",
    "token_space = 27\n",
    "embedding_space = 2\n",
    "key = random.key(42)\n",
    "key, C_key, W1_key, W2_key = random.split(key, 4)\n",
    "parameters = {\n",
    "    \"C\": random.normal(C_key, (token_space, embedding_space)),\n",
    "    \"W1\": random.normal(W1_key, (embedding_space * context_length, 100)),\n",
    "    \"W2\": random.normal(W2_key, (100, token_space)),\n",
    "}\n",
    "\n",
    "\n",
    "@jit\n",
    "def model(X: Array, parameters: dict[str, Array]):\n",
    "    emb = jnp.dot(one_hot(X, token_space), parameters[\"C\"]).reshape(\n",
    "        context_length * embedding_space\n",
    "    )\n",
    "    hlogits = jnp.tanh(jnp.dot(emb, parameters[\"W1\"]))\n",
    "    logits = jnp.dot(hlogits, parameters[\"W2\"])\n",
    "    probs = softmax(logits)\n",
    "    return probs\n",
    "\n",
    "\n",
    "@jit\n",
    "def criterion(probs: Array, y: int):\n",
    "    return -jnp.log(probs[y])"
   ]
  },
  {
   "cell_type": "code",
   "execution_count": 15,
   "id": "bb2816cc",
   "metadata": {},
   "outputs": [
    {
     "name": "stdout",
     "output_type": "stream",
     "text": [
      "13.328408\n",
      "11.900421\n",
      "10.83315\n",
      "10.535785\n",
      "10.299287\n",
      "9.456129\n",
      "9.4127865\n",
      "8.733887\n",
      "8.582693\n",
      "8.2400255\n",
      "8.023248\n",
      "7.7062817\n",
      "7.4838276\n",
      "7.241955\n",
      "7.015661\n",
      "6.794135\n",
      "6.6001596\n",
      "6.3675485\n",
      "6.24095\n",
      "5.9593678\n"
     ]
    }
   ],
   "source": [
    "@value_and_grad\n",
    "def forward(parameters: dict[str, Array], X: Array, y: Array):\n",
    "    preds = vmap(model, in_axes=(0, None))(X, parameters)\n",
    "    loss = jnp.mean(vmap(criterion)(preds, y))\n",
    "    return loss\n",
    "\n",
    "for i in range(20):\n",
    "    loss, grad = forward(parameters, X, y)\n",
    "    for k in parameters.keys():\n",
    "        parameters[k] -= .1 * grad[k]\n",
    "    print(loss)\n",
    "\n"
   ]
  }
 ],
 "metadata": {
  "kernelspec": {
   "display_name": ".venv",
   "language": "python",
   "name": "python3"
  },
  "language_info": {
   "codemirror_mode": {
    "name": "ipython",
    "version": 3
   },
   "file_extension": ".py",
   "mimetype": "text/x-python",
   "name": "python",
   "nbconvert_exporter": "python",
   "pygments_lexer": "ipython3",
   "version": "3.13.2"
  }
 },
 "nbformat": 4,
 "nbformat_minor": 5
}
